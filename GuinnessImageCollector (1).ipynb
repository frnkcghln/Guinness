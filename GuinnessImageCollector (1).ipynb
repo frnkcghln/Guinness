{
 "cells": [
  {
   "cell_type": "markdown",
   "metadata": {},
   "source": [
    "### Install Required Packages"
   ]
  },
  {
   "cell_type": "code",
   "execution_count": 3,
   "metadata": {},
   "outputs": [
    {
     "name": "stdout",
     "output_type": "stream",
     "text": [
      "Collecting instaloader\n",
      "  Downloading instaloader-4.8.1.tar.gz (54 kB)\n",
      "\u001b[K     |████████████████████████████████| 54 kB 6.1 MB/s  eta 0:00:01\n",
      "\u001b[?25hRequirement already satisfied: requests>=2.4 in /opt/conda/envs/fastai/lib/python3.8/site-packages (from instaloader) (2.25.0)\n",
      "Requirement already satisfied: chardet<4,>=3.0.2 in /opt/conda/envs/fastai/lib/python3.8/site-packages (from requests>=2.4->instaloader) (3.0.4)\n",
      "Requirement already satisfied: certifi>=2017.4.17 in /opt/conda/envs/fastai/lib/python3.8/site-packages (from requests>=2.4->instaloader) (2020.11.8)\n",
      "Requirement already satisfied: idna<3,>=2.5 in /opt/conda/envs/fastai/lib/python3.8/site-packages (from requests>=2.4->instaloader) (2.10)\n",
      "Requirement already satisfied: urllib3<1.27,>=1.21.1 in /opt/conda/envs/fastai/lib/python3.8/site-packages (from requests>=2.4->instaloader) (1.25.11)\n",
      "Building wheels for collected packages: instaloader\n",
      "  Building wheel for instaloader (setup.py) ... \u001b[?25ldone\n",
      "\u001b[?25h  Created wheel for instaloader: filename=instaloader-4.8.1-py3-none-any.whl size=58703 sha256=fbe9069a67ad997dcbfbebbc387cf248dd50647d690cb77ba9a93b4b6ad370f6\n",
      "  Stored in directory: /root/.cache/pip/wheels/71/85/10/e5a35091a426cde8a604e0db4f721971439e2796e72e08f4e9\n",
      "Successfully built instaloader\n",
      "Installing collected packages: instaloader\n",
      "Successfully installed instaloader-4.8.1\n"
     ]
    }
   ],
   "source": [
    "# install instaloader package\n",
    "\n",
    "!pip install instaloader"
   ]
  },
  {
   "cell_type": "code",
   "execution_count": 5,
   "metadata": {},
   "outputs": [
    {
     "name": "stdout",
     "output_type": "stream",
     "text": [
      "Requirement already up-to-date: instaloader in /opt/conda/envs/fastai/lib/python3.8/site-packages (4.8.1)\r\n",
      "Requirement already satisfied, skipping upgrade: requests>=2.4 in /opt/conda/envs/fastai/lib/python3.8/site-packages (from instaloader) (2.25.0)\r\n",
      "Requirement already satisfied, skipping upgrade: urllib3<1.27,>=1.21.1 in /opt/conda/envs/fastai/lib/python3.8/site-packages (from requests>=2.4->instaloader) (1.25.11)\r\n",
      "Requirement already satisfied, skipping upgrade: chardet<4,>=3.0.2 in /opt/conda/envs/fastai/lib/python3.8/site-packages (from requests>=2.4->instaloader) (3.0.4)\r\n",
      "Requirement already satisfied, skipping upgrade: idna<3,>=2.5 in /opt/conda/envs/fastai/lib/python3.8/site-packages (from requests>=2.4->instaloader) (2.10)\r\n",
      "Requirement already satisfied, skipping upgrade: certifi>=2017.4.17 in /opt/conda/envs/fastai/lib/python3.8/site-packages (from requests>=2.4->instaloader) (2020.11.8)\r\n"
     ]
    }
   ],
   "source": [
    "# upgrade\n",
    "\n",
    "!pip install --upgrade instaloader"
   ]
  },
  {
   "cell_type": "markdown",
   "metadata": {},
   "source": [
    "### Adjust Working Directory"
   ]
  },
  {
   "cell_type": "code",
   "execution_count": 35,
   "metadata": {},
   "outputs": [
    {
     "name": "stdout",
     "output_type": "stream",
     "text": [
      "Current working directory: /notebooks/images/guinness/bad\n",
      "os.getcwd() returns an object of type: <class 'str'>\n",
      "Current working directory: /notebooks/images/guinness/bad\n"
     ]
    }
   ],
   "source": [
    "# Import the os module\n",
    "import os\n",
    "\n",
    "# Get the current working directory\n",
    "cwd = os.getcwd()\n",
    "\n",
    "# Print the current working directory\n",
    "print(\"Current working directory: {0}\".format(cwd))\n",
    "\n",
    "# Print the type of the returned object\n",
    "print(\"os.getcwd() returns an object of type: {0}\".format(type(cwd)))\n",
    "\n",
    "# Change the current working directory\n",
    "os.chdir('/notebooks/images/guinness/bad')\n",
    "\n",
    "# Print the current working directory\n",
    "print(\"Current working directory: {0}\".format(os.getcwd()))"
   ]
  },
  {
   "cell_type": "markdown",
   "metadata": {},
   "source": [
    "### Import Modules"
   ]
  },
  {
   "cell_type": "code",
   "execution_count": 5,
   "metadata": {},
   "outputs": [],
   "source": [
    "from datetime import datetime\n",
    "from itertools import dropwhile, takewhile\n",
    "\n",
    "import instaloader"
   ]
  },
  {
   "cell_type": "code",
   "execution_count": 36,
   "metadata": {},
   "outputs": [
    {
     "name": "stdout",
     "output_type": "stream",
     "text": [
      "shitlondonguinness\n"
     ]
    }
   ],
   "source": [
    "# Define the Instaloader Method\n",
    "L = instaloader.Instaloader()\n"
   ]
  },
  {
   "cell_type": "code",
   "execution_count": 37,
   "metadata": {},
   "outputs": [],
   "source": [
    "# get users posts\n",
    "posts = instaloader.Profile.from_username(L.context, 'shitlondonguinness').get_posts()\n",
    "\n"
   ]
  },
  {
   "cell_type": "code",
   "execution_count": 8,
   "metadata": {},
   "outputs": [],
   "source": [
    "SINCE = datetime(2021, 1, 1)\n",
    "UNTIL = datetime(2021, 6, 30)"
   ]
  },
  {
   "cell_type": "code",
   "execution_count": 38,
   "metadata": {},
   "outputs": [
    {
     "name": "stdout",
     "output_type": "stream",
     "text": [
      "coughlanfrankie\n"
     ]
    }
   ],
   "source": [
    "# enter own username\n",
    "username=input()"
   ]
  },
  {
   "cell_type": "code",
   "execution_count": 39,
   "metadata": {
    "scrolled": true
   },
   "outputs": [
    {
     "name": "stdout",
     "output_type": "stream",
     "text": [
      "Enter Instagram password for coughlanfrankie: ········\n"
     ]
    }
   ],
   "source": [
    "# enter password\n",
    "L.interactive_login(username) # Asks for password in the terminal"
   ]
  },
  {
   "cell_type": "code",
   "execution_count": 15,
   "metadata": {},
   "outputs": [],
   "source": [
    "# for post in takewhile(lambda p: p.date > UNTIL, dropwhile(lambda p: p.date > SINCE, posts)):\n",
    "#     print(post.date)\n",
    "#     L.download_post(post, target=f\"{index}\")"
   ]
  },
  {
   "cell_type": "code",
   "execution_count": 11,
   "metadata": {},
   "outputs": [],
   "source": [
    "from itertools import islice"
   ]
  },
  {
   "cell_type": "code",
   "execution_count": 40,
   "metadata": {
    "scrolled": true
   },
   "outputs": [
    {
     "name": "stdout",
     "output_type": "stream",
     "text": [
      "2021-11-01 18:23:36\n",
      "1/2021-11-01_18-23-36_UTC_1.jpg 1/2021-11-01_18-23-36_UTC_2.jpg [a dark day for humanity   cre…] json \n",
      "2021-10-31 09:13:08\n",
      "2/2021-10-31_09-13-08_UTC.jpg [a spooky sight] json \n",
      "2021-10-28 17:16:26\n",
      "3/2021-10-28_17-16-26_UTC.jpg [extremely extremely cursed] json \n",
      "2021-10-25 17:06:40\n",
      "4/2021-10-25_17-06-40_UTC.jpg [SINNER, SINNER, SINNER] json \n",
      "2021-10-21 15:14:21\n",
      "5/2021-10-21_15-14-21_UTC.jpg [absolute travesty] json \n",
      "2021-10-18 16:30:24\n",
      "6/2021-10-18_16-30-24_UTC.jpg [need to have a lie down] json \n",
      "2021-10-14 18:20:43\n",
      "7/2021-10-14_18-20-43_UTC.jpg [stuff of nightmares] json \n",
      "2021-10-12 18:04:55\n",
      "8/2021-10-12_18-04-55_UTC_1.jpg 8/2021-10-12_18-04-55_UTC_2.jpg 8/2021-10-12_18-04-55_UTC_3.jpg [the weather’s getting chilly …] json \n",
      "2021-10-10 17:40:15\n",
      "9/2021-10-10_17-40-15_UTC.jpg [the sunday evening fear in a …] json \n",
      "2021-10-07 15:57:42\n",
      "10/2021-10-07_15-57-42_UTC.jpg [absolutely hairy] json \n",
      "2021-10-04 21:59:57\n",
      "11/2021-10-04_21-59-57_UTC.jpg [if instagram’s servers were a…] json \n",
      "2021-10-04 14:08:39\n",
      "12/2021-10-04_14-08-39_UTC_1.jpg 12/2021-10-04_14-08-39_UTC_2.jpg json \n",
      "2021-10-01 16:35:50\n",
      "13/2021-10-01_16-35-50_UTC_1.jpg 13/2021-10-01_16-35-50_UTC_2.jpg [head like patty. also you get…] json \n",
      "2021-09-29 17:15:20\n",
      "14/2021-09-29_17-15-20_UTC_1.jpg 14/2021-09-29_17-15-20_UTC_2.jpg [pint demon shirt available vi…] json \n",
      "2021-09-27 16:59:51\n",
      "15/2021-09-27_16-59-51_UTC_1.jpg 15/2021-09-27_16-59-51_UTC_2.jpg [absolutely horrendous stuff h…] json \n",
      "2021-09-23 17:07:49\n",
      "16/2021-09-23_17-07-49_UTC.jpg [sweet lord] json \n",
      "2021-09-20 17:12:54\n",
      "17/2021-09-20_17-12-54_UTC.jpg [shivers down my spine] json \n",
      "2021-09-17 14:29:05\n",
      "18/2021-09-17_14-29-05_UTC.jpg [shit pint, good jumper  avail…] json \n",
      "2021-09-15 17:33:36\n",
      "19/2021-09-15_17-33-36_UTC.jpg [pub invited me down to try th…] json \n",
      "2021-09-13 16:34:35\n",
      "20/2021-09-13_16-34-35_UTC.jpg [hahahahahahahahahahahahahahah…] json \n",
      "2021-09-12 14:18:24\n",
      "21/2021-09-12_14-18-24_UTC.jpg [dirt] json \n",
      "2021-09-09 15:20:12\n",
      "22/2021-09-09_15-20-12_UTC.jpg [sweet fuck] json \n",
      "2021-09-09 11:22:20\n",
      "23/2021-09-09_11-22-20_UTC_1.jpg 23/2021-09-09_11-22-20_UTC_2.jpg [every time I see someone out …] json \n",
      "2021-09-07 17:59:48\n",
      "24/2021-09-07_17-59-48_UTC.jpg [10 hail marys  submitted by @…] json \n",
      "2021-09-05 15:32:02\n",
      "25/2021-09-05_15-32-02_UTC_1.jpg 25/2021-09-05_15-32-02_UTC_2.jpg json \n",
      "2021-09-02 12:50:58\n",
      "26/2021-09-02_12-50-58_UTC.jpg [bye bye bye bye bye bye bye b…] json \n",
      "2021-08-31 13:41:01\n",
      "27/2021-08-31_13-41-01_UTC.jpg [This evening at 6pm, I’ll be …] json \n",
      "2021-08-29 17:21:56\n",
      "28/2021-08-29_17-21-56_UTC.jpg [absolutely hairy] json \n",
      "2021-08-27 15:22:18\n",
      "29/2021-08-27_15-22-18_UTC.jpg [🚨 GIVEAWAY 🚨   Alcohol free p…] json \n",
      "2021-08-25 19:24:13\n",
      "30/2021-08-25_19-24-13_UTC.jpg [every day we stray further fr…] json \n",
      "2021-08-23 18:10:21\n",
      "31/2021-08-23_18-10-21_UTC_1.jpg 31/2021-08-23_18-10-21_UTC_2.jpg json \n",
      "2021-08-21 14:57:01\n",
      "32/2021-08-21_14-57-01_UTC.jpg [bin please] json \n",
      "2021-08-19 17:01:03\n",
      "33/2021-08-19_17-01-03_UTC.jpg [normal service has resumed. t…] json \n",
      "2021-08-18 16:03:38\n",
      "34/2021-08-18_16-03-38_UTC.jpg [look, I know this isn’t a pin…] json \n",
      "2021-08-15 14:00:07\n",
      "35/2021-08-15_14-00-07_UTC.jpg [the classic love pints tee ❤️…] json \n",
      "2021-08-12 17:32:25\n",
      "36/2021-08-12_17-32-25_UTC_1.jpg 36/2021-08-12_17-32-25_UTC_2.jpg json \n",
      "2021-08-10 16:42:13\n",
      "37/2021-08-10_16-42-13_UTC.jpg [in mayfair and all so you kno…] json \n",
      "2021-08-07 18:03:11\n",
      "38/2021-08-07_18-03-11_UTC.jpg [fucking bin] json \n",
      "2021-08-06 17:02:18\n",
      "39/2021-08-06_17-02-18_UTC.jpg [sweet lord above] json \n",
      "2021-08-04 13:26:19\n",
      "40/2021-08-04_13-26-19_UTC_1.jpg 40/2021-08-04_13-26-19_UTC_2.jpg json \n",
      "2021-08-02 17:09:55\n",
      "41/2021-08-02_17-09-55_UTC.jpg [one of the most glorious dad …] json \n",
      "2021-07-30 17:14:10\n",
      "42/2021-07-30_17-14-10_UTC.jpg [battery acid] json \n",
      "2021-07-28 18:24:46\n",
      "43/2021-07-28_18-24-46_UTC.jpg [get to fuck] json \n",
      "2021-07-26 19:12:22\n",
      "44/2021-07-26_19-12-22_UTC.jpg [can smell the fuckin acid off…] json \n",
      "2021-07-24 19:08:30\n",
      "45/2021-07-24_19-08-30_UTC.jpg [submitted by @niallhoran] json \n",
      "2021-07-24 17:38:43\n",
      "46/2021-07-24_17-38-43_UTC.jpg [one of my own. need to make s…] json \n",
      "2021-07-22 16:44:23\n",
      "47/2021-07-22_16-44-23_UTC_1.jpg 47/2021-07-22_16-44-23_UTC_2.jpg 47/2021-07-22_16-44-23_UTC_3.jpg [some nice summer pastel colou…] json \n",
      "2021-07-20 15:03:17\n",
      "48/2021-07-20_15-03-17_UTC.jpg [I reckon I could get branson …] json \n",
      "2021-07-16 12:36:15\n",
      "49/2021-07-16_12-36-15_UTC.jpg [speaks for itself. shite] json \n",
      "2021-07-15 16:06:51\n",
      "50/2021-07-15_16-06-51_UTC.jpg [stink off tha] json \n",
      "2021-07-15 10:18:48\n",
      "51/2021-07-15_10-18-48_UTC_1.jpg 51/2021-07-15_10-18-48_UTC_2.jpg 51/2021-07-15_10-18-48_UTC_3.jpg 51/2021-07-15_10-18-48_UTC_4.jpg [Smelly pint of despair unrela…] json \n",
      "2021-07-13 18:30:07\n",
      "52/2021-07-13_18-30-07_UTC.jpg [bye] json \n",
      "2021-07-11 12:03:34\n",
      "53/2021-07-11_12-03-34_UTC.jpg [this is what it’s all about] json \n",
      "2021-07-10 17:41:34\n",
      "54/2021-07-10_17-41-34_UTC.jpg [bin] json \n",
      "2021-07-09 12:11:49\n",
      "55/2021-07-09_12-11-49_UTC.jpg [look at this nice man with hi…] json \n",
      "2021-07-06 15:40:28\n",
      "56/2021-07-06_15-40-28_UTC.jpg [one pint of mike ashley pleas…] json \n",
      "2021-07-05 16:27:50\n",
      "57/2021-07-05_16-27-50_UTC.jpg [fuck] json \n",
      "2021-07-03 11:36:26\n",
      "58/2021-07-03_11-36-26_UTC.jpg [no no no no no no no no no no…] json \n",
      "2021-07-01 17:13:10\n",
      "59/2021-07-01_17-13-10_UTC.jpg [SLG x @hephee shirts availabl…] json \n",
      "2021-06-29 11:28:58\n",
      "60/2021-06-29_11-28-58_UTC.jpg [@beautifulpints] json \n",
      "2021-06-28 13:42:39\n",
      "61/2021-06-28_13-42-39_UTC.jpg [@yenkeemusic filmed his extre…] 61/2021-06-28_13-42-39_UTC.mp4 json \n",
      "2021-06-27 12:07:54\n",
      "62/2021-06-27_12-07-54_UTC_1.jpg 62/2021-06-27_12-07-54_UTC_2.jpg json \n",
      "2021-06-25 14:35:54\n",
      "63/2021-06-25_14-35-54_UTC_1.jpg 63/2021-06-25_14-35-54_UTC_2.jpg [ruh roh] json \n",
      "2021-06-23 10:16:58\n",
      "64/2021-06-23_10-16-58_UTC.jpg [sorry to all scots] json \n",
      "2021-06-22 15:17:49\n",
      "65/2021-06-22_15-17-49_UTC_1.jpg 65/2021-06-22_15-17-49_UTC_2.jpg 65/2021-06-22_15-17-49_UTC_3.jpg 65/2021-06-22_15-17-49_UTC_4.jpg [Finally got off my arse to ge…] json \n",
      "2021-06-21 16:51:22\n",
      "66/2021-06-21_16-51-22_UTC.jpg [this is the best way to get m…] json \n",
      "2021-06-19 15:07:10\n",
      "67/2021-06-19_15-07-10_UTC.jpg [no, no, no [sung to the tune …] json \n",
      "2021-06-18 10:05:19\n",
      "68/2021-06-18_10-05-19_UTC.jpg [£6.50 + service charge] json \n",
      "2021-06-16 09:25:41\n",
      "69/2021-06-16_09-25-41_UTC.jpg [saw on twitter that someone w…] json \n",
      "2021-06-15 16:16:42\n",
      "70/2021-06-15_16-16-42_UTC.jpg [that is absolutely stinkin] json \n",
      "2021-06-12 12:53:57\n",
      "71/2021-06-12_12-53-57_UTC.jpg [if turkey’s performance last …] json \n",
      "2021-06-09 17:16:11\n",
      "72/2021-06-09_17-16-11_UTC.jpg [We get sent and post a lot of…] json \n",
      "2021-06-07 21:31:46\n",
      "73/2021-06-07_21-31-46_UTC.jpg [photos like this of people we…] json \n",
      "2021-06-06 12:33:21\n",
      "74/2021-06-06_12-33-21_UTC.jpg [nightmare fuel] json \n",
      "2021-06-04 16:39:38\n",
      "75/2021-06-04_16-39-38_UTC.jpg [Imagine the metallic taste of…] json \n",
      "2021-06-02 17:30:34\n",
      "76/2021-06-02_17-30-34_UTC.jpg [I think we’ve found the winner] json \n",
      "2021-06-01 17:15:45\n",
      "77/2021-06-01_17-15-45_UTC_1.jpg 77/2021-06-01_17-15-45_UTC_2.jpg 77/2021-06-01_17-15-45_UTC_3.jpg 77/2021-06-01_17-15-45_UTC_4.jpg 77/2021-06-01_17-15-45_UTC_5.jpg [just another reminder of some…] json \n",
      "2021-05-31 12:39:57\n",
      "78/2021-05-31_12-39-57_UTC.jpg [having some shitsurreyguinnes…] json \n",
      "2021-05-30 15:00:58\n",
      "79/2021-05-30_15-00-58_UTC.jpg [get this in the bin asap] json \n",
      "2021-05-27 20:13:30\n",
      "80/2021-05-27_20-13-30_UTC.jpg [bone app the teeth  submitted…] json \n",
      "2021-05-26 11:59:10\n",
      "81/2021-05-26_11-59-10_UTC_1.jpg 81/2021-05-26_11-59-10_UTC_2.jpg json \n",
      "2021-05-25 17:01:51\n",
      "82/2021-05-25_17-01-51_UTC_1.jpg 82/2021-05-25_17-01-51_UTC_2.jpg [‘there’s something up with th…] json \n",
      "2021-05-23 10:39:42\n",
      "83/2021-05-23_10-39-42_UTC.jpg [can get us on twitter @ shitl…] json \n",
      "2021-05-22 14:03:16\n",
      "84/2021-05-22_14-03-16_UTC.jpg [look how they massacred my boy] json \n",
      "2021-05-21 13:12:54\n",
      "85/2021-05-21_13-12-54_UTC.jpg [absolute stinker] json \n",
      "2021-05-20 16:01:25\n",
      "86/2021-05-20_16-01-25_UTC.jpg [cursedimage.jpg] json \n",
      "2021-05-19 16:32:27\n",
      "87/2021-05-19_16-32-27_UTC.jpg [Today is shitlondonguinness.c…] json \n",
      "2021-05-17 17:58:46\n",
      "88/2021-05-17_17-58-46_UTC.jpg [collection of shite] json \n",
      "2021-05-15 17:19:13\n",
      "89/2021-05-15_17-19-13_UTC.jpg [nah you’re grand thanks   sub…] json \n",
      "2021-05-14 12:45:53\n",
      "90/2021-05-14_12-45-53_UTC_1.jpg 90/2021-05-14_12-45-53_UTC_2.jpg 90/2021-05-14_12-45-53_UTC_3.jpg [New pastel colour ice cream p…] json \n",
      "2021-05-13 19:39:00\n",
      "91/2021-05-13_19-39-00_UTC.jpg [improvise. adapt. overcome.] json \n",
      "2021-05-12 17:50:35\n",
      "92/2021-05-12_17-50-35_UTC.jpg [bin] json \n",
      "2021-05-10 21:47:07\n",
      "93/2021-05-10_21-47-07_UTC.jpg [the absolute heft of this dou…] json \n",
      "2021-05-09 19:01:49\n",
      "94/2021-05-09_19-01-49_UTC.jpg [guinness and blackcurrant wit…] json \n",
      "2021-05-08 17:41:10\n",
      "95/2021-05-08_17-41-10_UTC.jpg [£6.20] json \n",
      "2021-05-07 16:06:45\n",
      "96/2021-05-07_16-06-45_UTC_1.jpg 96/2021-05-07_16-06-45_UTC_2.jpg [PINK LOVE PINTS BEANIES   now…] json \n",
      "2021-05-06 19:28:30\n",
      "97/2021-05-06_19-28-30_UTC.jpg [i paid £5.50 for this] json \n",
      "2021-05-04 17:48:03\n",
      "98/2021-05-04_17-48-03_UTC.jpg [a face of disappointment] json \n",
      "2021-05-02 15:39:00\n",
      "99/2021-05-02_15-39-00_UTC.jpg [be a happy time when this shi…] json \n",
      "2021-05-02 10:23:39\n",
      "100/2021-05-02_10-23-39_UTC.jpg [get in the sea] json \n",
      "2021-05-01 15:21:49\n",
      "101/2021-05-01_15-21-49_UTC_1.jpg 101/2021-05-01_15-21-49_UTC_2.jpg json \n",
      "2021-05-01 07:57:51\n",
      "102/2021-05-01_07-57-51_UTC.jpg [get in the fucking bin] json \n",
      "2021-04-30 14:42:02\n",
      "103/2021-04-30_14-42-02_UTC.jpg [looks like a fuckin candle ho…] json \n",
      "2021-04-28 16:50:27\n",
      "104/2021-04-28_16-50-27_UTC.jpg [It’s still cold out in those …] json \n",
      "2021-04-27 17:13:05\n",
      "105/2021-04-27_17-13-05_UTC.jpg [please... no more] json \n",
      "2021-04-25 15:47:38\n",
      "106/2021-04-25_15-47-38_UTC_1.jpg 106/2021-04-25_15-47-38_UTC_2.jpg json \n",
      "2021-04-24 15:46:40\n",
      "107/2021-04-24_15-46-40_UTC.jpg [i’d just go home] json \n",
      "2021-04-22 11:37:47\n",
      "108/2021-04-22_11-37-47_UTC.jpg [if the super league was a pint] json \n",
      "2021-04-21 17:18:32\n",
      "109/2021-04-21_17-18-32_UTC.jpg [bin] json \n",
      "2021-04-19 17:41:38\n",
      "110/2021-04-19_17-41-38_UTC_1.jpg 110/2021-04-19_17-41-38_UTC_2.jpg 110/2021-04-19_17-41-38_UTC_3.jpg [LOVE PINTS BUCKET HATS. the s…] json \n",
      "2021-04-17 17:29:32\n",
      "111/2021-04-17_17-29-32_UTC.jpg [nothing has been the same sin…] json \n",
      "2021-04-16 13:57:02\n",
      "112/2021-04-16_13-57-02_UTC_1.jpg 112/2021-04-16_13-57-02_UTC_2.jpg json \n",
      "2021-04-15 16:46:28\n",
      "113/2021-04-15_16-46-28_UTC.jpg [even the fresh shitlondonguin…] json \n",
      "2021-04-15 12:19:42\n",
      "114/2021-04-15_12-19-42_UTC.jpg [fuckin hell. bin] json \n",
      "2021-04-14 16:13:09\n",
      "115/2021-04-14_16-13-09_UTC.jpg [day 3] json \n",
      "2021-04-13 11:53:57\n",
      "116/2021-04-13_11-53-57_UTC.jpg [this will give me nightmares …] json \n",
      "2021-04-12 17:47:15\n",
      "117/2021-04-12_17-47-15_UTC.jpg [welcome back...] json \n",
      "2021-04-12 11:16:11\n",
      "118/2021-04-12_11-16-11_UTC.jpg [pubs been open about 5 minute…] json \n",
      "2021-04-10 15:25:36\n",
      "119/2021-04-10_15-25-36_UTC_1.jpg 119/2021-04-10_15-25-36_UTC_2.jpg 119/2021-04-10_15-25-36_UTC_3.jpg [latest t-shirt drop is now li…] json \n",
      "2021-04-08 16:20:44\n",
      "120/2021-04-08_16-20-44_UTC_1.jpg 120/2021-04-08_16-20-44_UTC_2.jpg 120/2021-04-08_16-20-44_UTC_3.jpg 120/2021-04-08_16-20-44_UTC_4.jpg 120/2021-04-08_16-20-44_UTC_5.jpg [@guinnessgb brought me to the…] json \n",
      "2021-04-06 17:01:07\n",
      "121/2021-04-06_17-01-07_UTC.jpg [open the pubs] json \n",
      "2021-04-04 15:51:39\n",
      "122/2021-04-04_15-51-39_UTC.jpg [can’t wait to go back to drin…] json \n",
      "2021-04-01 19:12:03\n",
      "123/2021-04-01_19-12-03_UTC.jpg [I was half thinking of postin…] json \n",
      "2021-03-30 17:10:06\n",
      "124/2021-03-30_17-10-06_UTC_1.jpg 124/2021-03-30_17-10-06_UTC_2.jpg [NEW Ice Cream Pint t-shirts n…] json \n",
      "2021-03-28 17:12:34\n",
      "125/2021-03-28_17-12-34_UTC.jpg [pub gardens opening in englan…] json \n",
      "2021-03-26 16:15:54\n",
      "126/2021-03-26_16-15-54_UTC.jpg [follow this account and the s…] json \n",
      "2021-03-25 18:33:12\n",
      "127/2021-03-25_18-33-12_UTC_1.jpg 127/2021-03-25_18-33-12_UTC_2.jpg json \n",
      "2021-03-23 18:28:30\n",
      "128/2021-03-23_18-28-30_UTC.jpg [the practicality of drinking …] json \n",
      "2021-03-21 18:50:15\n",
      "129/2021-03-21_18-50-15_UTC.jpg [sourdough shite] json \n",
      "2021-03-18 11:47:59\n",
      "130/2021-03-18_11-47-59_UTC.jpg [hope you all had a good paddy…] json \n",
      "2021-03-17 18:07:53\n",
      "131/2021-03-17_18-07-53_UTC.jpg [bin bin bin bin bin bin bin b…] json \n",
      "2021-03-17 13:04:54\n",
      "132/2021-03-17_13-04-54_UTC.jpg [paddy’s day was always beauti…] json \n",
      "2021-03-17 09:49:30\n",
      "133/2021-03-17_09-49-30_UTC.jpg [a shit man holding a shit pin…] json \n",
      "2021-03-15 19:00:09\n",
      "134/2021-03-15_19-00-09_UTC_1.jpg 134/2021-03-15_19-00-09_UTC_2.jpg [grey love pints sweatshirts a…] json \n",
      "2021-03-13 20:35:58\n",
      "135/2021-03-13_20-35-58_UTC_1.jpg 135/2021-03-13_20-35-58_UTC_2.jpg [can get me on twitter @ shitl…] json \n",
      "2021-03-12 14:26:28\n",
      "136/2021-03-12_14-26-28_UTC_1.jpg 136/2021-03-12_14-26-28_UTC_2.jpg [the absolute state of that pi…] json \n",
      "2021-03-10 17:19:20\n",
      "137/2021-03-10_17-19-20_UTC.jpg [fella on the left was interce…] json \n",
      "2021-03-08 18:30:22\n",
      "138/2021-03-08_18-30-22_UTC_1.jpg 138/2021-03-08_18-30-22_UTC_2.jpg json \n",
      "2021-03-05 16:16:37\n",
      "139/2021-03-05_16-16-37_UTC.jpg [🚨 COMPETITION TIME 🚨  I’m run…] json \n",
      "2021-03-03 11:05:30\n",
      "140/2021-03-03_11-05-30_UTC_1.jpg 140/2021-03-03_11-05-30_UTC_2.jpg [if you listen closely you can…] json \n",
      "2021-03-01 18:10:06\n",
      "141/2021-03-01_18-10-06_UTC.jpg [Some more takeaway horrors. C…] json \n",
      "2021-02-27 16:59:09\n",
      "142/2021-02-27_16-59-09_UTC.jpg [someone has committed a crime…] json \n",
      "2021-02-25 20:09:50\n",
      "143/2021-02-25_20-09-50_UTC.jpg [the date is april 12th. you’r…] json \n",
      "2021-02-24 17:41:23\n",
      "144/2021-02-24_17-41-23_UTC_1.jpg 144/2021-02-24_17-41-23_UTC_2.jpg 144/2021-02-24_17-41-23_UTC_3.jpg [restocked a load of prints th…] json \n",
      "2021-02-22 17:50:52\n",
      "145/2021-02-22_17-50-52_UTC.jpg [the first pints 17th of may n…] json \n",
      "2021-02-20 20:15:17\n",
      "146/2021-02-20_20-15-17_UTC.jpg [can get us on twitter too  @ …] json \n",
      "2021-02-20 16:41:54\n",
      "147/2021-02-20_16-41-54_UTC_1.jpg 147/2021-02-20_16-41-54_UTC_2.jpg [@mrrussryan] json \n",
      "2021-02-18 18:44:49\n",
      "148/2021-02-18_18-44-49_UTC_1.jpg 148/2021-02-18_18-44-49_UTC_2.jpg 148/2021-02-18_18-44-49_UTC_3.jpg 148/2021-02-18_18-44-49_UTC_4.jpg [🚨 RESTOCK 🚨   the SLG x @heph…] json \n",
      "2021-02-16 17:52:39\n",
      "149/2021-02-16_17-52-39_UTC.jpg [a picture of health] json \n",
      "2021-02-14 21:32:06\n",
      "150/2021-02-14_21-32-06_UTC.jpg [i’m not gonna name the pub bu…] json \n"
     ]
    }
   ],
   "source": [
    "# download 150 posts\n",
    "limit=150\n",
    "\n",
    "for index, post in enumerate(posts,1):\n",
    "    if index <= limit:\n",
    "        print(post.date_utc)\n",
    "        L.download_post(post, target=f\"{index}\")\n"
   ]
  },
  {
   "cell_type": "markdown",
   "metadata": {},
   "source": [
    "### Identify, move and rename all image files"
   ]
  },
  {
   "cell_type": "code",
   "execution_count": 41,
   "metadata": {},
   "outputs": [],
   "source": [
    "import shutil"
   ]
  },
  {
   "cell_type": "code",
   "execution_count": 42,
   "metadata": {},
   "outputs": [
    {
     "name": "stdout",
     "output_type": "stream",
     "text": [
      "Current working directory: /notebooks/images/guinness/bad\n",
      "os.getcwd() returns an object of type: <class 'str'>\n",
      "Current working directory: /notebooks/images/guinness\n"
     ]
    }
   ],
   "source": [
    "# Change the working directory to make manipulating the files easier\n",
    "\n",
    "# Get the current working directory\n",
    "cwd = os.getcwd()\n",
    "\n",
    "# Print the current working directory\n",
    "print(\"Current working directory: {0}\".format(cwd))\n",
    "\n",
    "# Print the type of the returned object\n",
    "print(\"os.getcwd() returns an object of type: {0}\".format(type(cwd)))\n",
    "\n",
    "# Change the current working directory\n",
    "os.chdir('/notebooks/images/guinness')\n",
    "\n",
    "# Print the current working directory\n",
    "print(\"Current working directory: {0}\".format(os.getcwd()))"
   ]
  },
  {
   "cell_type": "code",
   "execution_count": 43,
   "metadata": {
    "scrolled": true
   },
   "outputs": [],
   "source": [
    "def moveimages(loc):\n",
    "\n",
    "#     iterate through the files and move any images out of their source folders and into the main image folder\n",
    "    for count, filename in enumerate(os.listdir(loc)):\n",
    "        try:\n",
    "            source = loc+str(count)+'/'\n",
    "            dest = loc\n",
    "            files = os.listdir(source)\n",
    "            for f in files:\n",
    "                if os.path.splitext(f)[1] in (\".jpg\", \".gif\", \".png\"):\n",
    "                    shutil.move(source+f, dest)\n",
    "        except OSError as e:\n",
    "            print(\"Error: %s - %s.\" % (e.filename, e.strerror))\n",
    "\n",
    "# Delete the existing folders once the images have been removed\n",
    "        try:\n",
    "            shutil.rmtree(loc+str(count)+'/')\n",
    "        except OSError as e:\n",
    "            print(\"Error: %s - %s.\" % (e.filename, e.strerror))"
   ]
  },
  {
   "cell_type": "code",
   "execution_count": 44,
   "metadata": {},
   "outputs": [],
   "source": [
    "# Function to rename multiple files\n",
    "def main(loc):\n",
    "  \n",
    "# rename the image files numerically\n",
    "    for count, filename in enumerate(os.listdir(loc)):\n",
    "        dst =str(count)+\".jpg\"\n",
    "        src =loc+ filename\n",
    "        dst =loc+ dst\n",
    "          \n",
    "        # rename() function will\n",
    "        # rename all the files\n",
    "        os.rename(src, dst)"
   ]
  },
  {
   "cell_type": "code",
   "execution_count": 46,
   "metadata": {},
   "outputs": [
    {
     "name": "stdout",
     "output_type": "stream",
     "text": [
      "Error: good/0/ - No such file or directory.\n",
      "Error: good/0/ - No such file or directory.\n"
     ]
    }
   ],
   "source": [
    "# run the functions\n",
    "# These were run twice, once for the 'good' and once for the 'bad'\n",
    "\n",
    "moveimages('good/')\n",
    "main('good/')"
   ]
  },
  {
   "cell_type": "markdown",
   "metadata": {},
   "source": [
    "### Delete the folders, if necessary"
   ]
  },
  {
   "cell_type": "code",
   "execution_count": 26,
   "metadata": {},
   "outputs": [],
   "source": [
    "# os.chdir('/notebooks/images/guinness')\n",
    "\n",
    "# shutil.rmtree('bad/')\n",
    "# shutil.rmtree('good/')\n"
   ]
  },
  {
   "cell_type": "code",
   "execution_count": null,
   "metadata": {},
   "outputs": [],
   "source": []
  }
 ],
 "metadata": {
  "kernelspec": {
   "display_name": "Python 3",
   "language": "python",
   "name": "python3"
  },
  "language_info": {
   "codemirror_mode": {
    "name": "ipython",
    "version": 3
   },
   "file_extension": ".py",
   "mimetype": "text/x-python",
   "name": "python",
   "nbconvert_exporter": "python",
   "pygments_lexer": "ipython3",
   "version": "3.8.6"
  }
 },
 "nbformat": 4,
 "nbformat_minor": 4
}
