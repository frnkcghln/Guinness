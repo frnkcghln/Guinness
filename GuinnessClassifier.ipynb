{
 "cells": [
  {
   "cell_type": "markdown",
   "metadata": {
    "gradient": {
     "editing": false,
     "id": "ec476077-f7c1-4c47-8c3d-290836bbf283",
     "kernelId": ""
    }
   },
   "source": [
    "# Guinness Pint Classifier\n",
    "The machine learning project that no one wanted, asked for, or needed.\n",
    "\n",
    "This application uses a trained Neural Network to classify pints of Guinness as <b>Good</b> or <b>Bad</b>. \n",
    "To use the app <b>take a picture</b> of your pint (or choose a picture of a fondly remembered pint from the past), hit the <b>upload</b> button, and <b>click classify</b>!\n",
    "The model was 90% accurate with the data it was trained on, but it only works with Guinness. So don't bother trying to upload that pint of Coors Light, it doesn't take an algorithm to know it should be avoided.\n",
    "\n",
    "The model is trained using a set of carefully curated images (aka haphazardly scraped from social media). It is written in Python and uses fastai and pyspark libraries and transfer learning to get a 90% classification rate with about 300 images."
   ]
  },
  {
   "cell_type": "code",
   "execution_count": 1,
   "metadata": {
    "gradient": {
     "editing": false,
     "execution_count": 1,
     "id": "c89b1118-2cf7-4ab9-b548-c6bc2701bf1e",
     "kernelId": ""
    }
   },
   "outputs": [],
   "source": [
    "from fastai.vision.all import *\n",
    "from fastai.vision.widgets import *"
   ]
  },
  {
   "cell_type": "code",
   "execution_count": 10,
   "metadata": {
    "gradient": {
     "editing": false,
     "execution_count": 3,
     "id": "20a3bfdc-35f0-441c-8e92-c583696c31bb",
     "kernelId": ""
    }
   },
   "outputs": [],
   "source": [
    "# defining the widgets for the Button, Output and Label\n",
    "btn_run = widgets.Button(description='Classify')\n",
    "out_pl = widgets.Output()\n",
    "lbl_pred = widgets.Label()\n",
    "\n",
    "# function for image classification\n",
    "def on_click_classify(change):\n",
    "    #sets img as an image object based on button upload\n",
    "    img = PILImage.create(btn_upload.data[-1])\n",
    "    #clears existing output\n",
    "    out_pl.clear_output()\n",
    "    #sets the output as 128x128 and creates a prediction based on learn_inf\n",
    "    with out_pl: display(img.to_thumb(128,128))\n",
    "    pred,pred_idx,probs = learn_inf.predict(img)\n",
    "    lbl_pred.value = f'The model is {probs[pred_idx]:.0%} sure that this is a {pred} pint. Enjoy.'\n",
    "    \n",
    "\n",
    "btn_upload = widgets.FileUpload()\n",
    "btn_run.on_click(on_click_classify)"
   ]
  },
  {
   "cell_type": "code",
   "execution_count": 11,
   "metadata": {
    "gradient": {
     "editing": false,
     "execution_count": 4,
     "id": "dcbc0aaf-1c9a-44c1-a074-d4b7ac89adaa",
     "kernelId": ""
    }
   },
   "outputs": [],
   "source": [
    "path = Path()\n",
    "path.ls(file_exts='.pkl')\n",
    "learn_inf = load_learner(path/'export.pkl')"
   ]
  },
  {
   "cell_type": "code",
   "execution_count": 12,
   "metadata": {
    "gradient": {
     "editing": false,
     "execution_count": 12,
     "id": "bd2e54c3-a235-4c00-938f-548bac4a3681",
     "kernelId": ""
    }
   },
   "outputs": [
    {
     "data": {
      "application/vnd.jupyter.widget-view+json": {
       "model_id": "0ef33c248b3949ff9d77c8f1b79cda5a",
       "version_major": 2,
       "version_minor": 0
      },
      "text/plain": [
       "VBox(children=(Label(value='Upload your pint!'), FileUpload(value={}, description='Upload'), Button(descriptio…"
      ]
     },
     "metadata": {},
     "output_type": "display_data"
    }
   ],
   "source": [
    "VBox([widgets.Label('Upload your pint!'), \n",
    "      btn_upload, btn_run, out_pl, lbl_pred])"
   ]
  }
 ],
 "metadata": {
  "kernelspec": {
   "display_name": "Python 3",
   "language": "python",
   "name": "python3"
  },
  "language_info": {
   "codemirror_mode": {
    "name": "ipython",
    "version": 3
   },
   "file_extension": ".py",
   "mimetype": "text/x-python",
   "name": "python",
   "nbconvert_exporter": "python",
   "pygments_lexer": "ipython3",
   "version": "3.8.6"
  }
 },
 "nbformat": 4,
 "nbformat_minor": 4
}
